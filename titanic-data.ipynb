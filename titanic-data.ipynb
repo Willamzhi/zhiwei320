{
 "cells": [
  {
   "cell_type": "markdown",
   "metadata": {},
   "source": [
    "# 提出问题\n",
    "有哪些因素会让船上的人生还率更高？"
   ]
  },
  {
   "cell_type": "markdown",
   "metadata": {},
   "source": [
    "# 调查数据\n",
    "## 读取源数据"
   ]
  },
  {
   "cell_type": "code",
   "execution_count": 61,
   "metadata": {},
   "outputs": [
    {
     "name": "stdout",
     "output_type": "stream",
     "text": [
      "<class 'pandas.core.frame.DataFrame'>\n",
      "RangeIndex: 891 entries, 0 to 890\n",
      "Data columns (total 12 columns):\n",
      "PassengerId    891 non-null int64\n",
      "Survived       891 non-null int64\n",
      "Pclass         891 non-null int64\n",
      "Name           891 non-null object\n",
      "Sex            891 non-null object\n",
      "Age            714 non-null float64\n",
      "SibSp          891 non-null int64\n",
      "Parch          891 non-null int64\n",
      "Ticket         891 non-null object\n",
      "Fare           891 non-null float64\n",
      "Cabin          204 non-null object\n",
      "Embarked       889 non-null object\n",
      "dtypes: float64(2), int64(5), object(5)\n",
      "memory usage: 83.6+ KB\n"
     ]
    }
   ],
   "source": [
    "%matplotlib inline \n",
    "import pandas as pandas\n",
    "import matplotlib.pyplot as plt\n",
    "\n",
    "# 读取csv文件,年龄等数据存在缺失值\n",
    "csv = pandas.read_csv('titanic-data.csv')\n",
    "csv.info()\n",
    "csv = dropna(how='any')"
   ]
  },
  {
   "cell_type": "markdown",
   "metadata": {},
   "source": [
    "## 数据整理\n",
    "### 补充缺失值\n",
    "表格中，年龄Age和舱房Cabin存在空值。出于简单性和性能原因，我们要做数据清理。该数据中除了Cabin数据值大量缺失之外，其他的缺失值数量较小，并且是随机出现的，因此对它们做直接删除处理"
   ]
  },
  {
   "cell_type": "code",
   "execution_count": null,
   "metadata": {},
   "outputs": [],
   "source": [
    "# 判断各个元素对存活率的影响,删除当前元素缺失值\n",
    "def influence(survived, element):\n",
    "    # 判断**对存活率的影响\n",
    "    \n",
    "    groupby_element = survived_element.groupby(element)\n",
    "    total_groupby_element = groupby_element.count()\n",
    "    survived_groupby_element = groupby_element.sum()\n",
    "\n",
    "    # **的生还人数\n",
    "    print(\"生还人数\")\n",
    "    print(survived_groupby_element)\n",
    "    # **的总人数\n",
    "    print(\"总人数\")\n",
    "    print(total_groupby_element)\n",
    "    # **的生还率\n",
    "    print(\"生还率\")\n",
    "    survived_rate_element = survived_groupby_element / total_groupby_element\n",
    "    print(survived_rate_element)\n",
    "    # 直方图**的生还率\n",
    "    survived_rate_element.plot(kind='bar')\n",
    "    plt.title(element + 'Survival rate')\n",
    "    plt.xlabel(element)\n",
    "    plt.ylabel(survived)\n",
    "    plt.show()\n"
   ]
  },
  {
   "cell_type": "code",
   "execution_count": null,
   "metadata": {},
   "outputs": [],
   "source": [
    "# 判断区间元素对存活率的影响,删除当前元素缺失值\n",
    "def section_influence(survived, element, lim):\n",
    "    \n",
    "\n",
    "    survived_section = csv[[survived, element]].dropna()\n",
    "\n",
    "    section_group = pandas.DataFrame({\n",
    "        'element_group': [cut(section, lim) for section in survived_section[element]]\n",
    "    })\n",
    "\n",
    "    groupby_section = pandas.concat([csv['Survived'], section_group], axis=1)\n",
    "\n",
    "    groupby_element = groupby_section.groupby('element_group')\n",
    "    total_groupby_element = groupby_element.count()\n",
    "    survived_groupby_element = groupby_element.sum()\n",
    "\n",
    "    # 分组的生还人数\n",
    "    print(survived_groupby_element)\n",
    "    # 分组的总人数\n",
    "    print(total_groupby_element)\n",
    "    # 分组的生还率\n",
    "    survived_rate_element = survived_groupby_element / total_groupby_element\n",
    "    print(survived_rate_element)\n",
    "    # 直方图分组的生还率\n",
    "    survived_rate_element.plot(kind='bar')\n",
    "    plt.title(element + 'Survival rate')\n",
    "    plt.xlabel(element)\n",
    "    plt.ylabel(survived)\n",
    "    survived_rate_element.plot(kind='pie',subplots=True)\n",
    "    plt.show()\n"
   ]
  },
  {
   "cell_type": "code",
   "execution_count": null,
   "metadata": {},
   "outputs": [],
   "source": [
    "\n",
    "# 判断双元素对存活率的影响\n",
    "def double_influence(element1, element2, survived):\n",
    "    # 判断**对存活率的影响\n",
    "    # survived_element = csv[[survived, element]]\n",
    "    groupby_element = csv.groupby([element1, element2])[survived]\n",
    "    total_groupby_element = groupby_element.count()\n",
    "    survived_groupby_element = groupby_element.sum()\n",
    "\n",
    "    # **的生还人数\n",
    "    print(\"生还人数\")\n",
    "    print(survived_groupby_element)\n",
    "    # **的总人数\n",
    "    print(\"总人数\")\n",
    "    print(total_groupby_element)\n",
    "    # **的生还率\n",
    "    print(\"生还率\")\n",
    "    survived_rate_element = survived_groupby_element / total_groupby_element\n",
    "    print(survived_rate_element)\n",
    "    # 直方图**的生还率\n",
    "    survived_rate_element.unstack().plot(kind='bar')\n",
    "    plt.title(element1 + \"+\" + element2 + \" \"+ 'Survival rate')\n",
    "    plt.xlabel(element1 + \"+\" + element2)\n",
    "    plt.ylabel(survived)\n",
    "    plt.show()\n"
   ]
  },
  {
   "cell_type": "code",
   "execution_count": null,
   "metadata": {},
   "outputs": [],
   "source": [
    "#可视化单元素和多元素对应的生还率\n",
    "def plotRate(data, feature, stacked=False):\n",
    "    # if there are more than one features\n",
    "    if type(feature) is list:        \n",
    "        survived_rate = (data.groupby(feature).mean())['Survived'].unstack()\n",
    "        survived_rate.plot(kind='bar', stacked=stacked)\n",
    "        plt.title('Rate of Survival by {} and {}'.format(feature[0], feature[1]))\n",
    "    # if there is only one feature\n",
    "    else:\n",
    "        survived_rate = (data.groupby(feature).mean())['Survived']\n",
    "        survived_rate.plot(kind='bar')\n",
    "        plt.title('Rate of Survival by {}'.format(feature))\n",
    "\n",
    "# call the function to make plots\n",
    "plotRate(csv, \"Sex\")\n",
    "plotRate(csv, [\"Pclass\", 'Sex'], False)"
   ]
  },
  {
   "cell_type": "markdown",
   "metadata": {},
   "source": [
    "## 判断舱位对存活率的影响\n",
    "#### 变量 \"Survived\",\"Pclass\""
   ]
  },
  {
   "cell_type": "code",
   "execution_count": 65,
   "metadata": {},
   "outputs": [
    {
     "name": "stdout",
     "output_type": "stream",
     "text": [
      "生还人数\n",
      "        Survived\n",
      "Pclass          \n",
      "1            136\n",
      "2             87\n",
      "3            119\n",
      "总人数\n",
      "        Survived\n",
      "Pclass          \n",
      "1            216\n",
      "2            184\n",
      "3            491\n",
      "生还率\n",
      "        Survived\n",
      "Pclass          \n",
      "1       0.629630\n",
      "2       0.472826\n",
      "3       0.242363\n"
     ]
    },
    {
     "data": {
      "image/png": "[encoded data removed]",
      "text/plain": [
       "<matplotlib.figure.Figure at 0x18aebc04470>"
      ]
     },
     "metadata": {},
     "output_type": "display_data"
    }
   ],
   "source": [
    "influence('Survived', 'Pclass')"
   ]
  },
  {
   "cell_type": "markdown",
   "metadata": {},
   "source": [
    "#### 结果显示舱位等级越高,存活率越高"
   ]
  },
  {
   "cell_type": "markdown",
   "metadata": {},
   "source": [
    "## 判断性别对存活率的影响\n",
    "#### 变量 \"Survived\",\"Sex\""
   ]
  },
  {
   "cell_type": "code",
   "execution_count": 66,
   "metadata": {},
   "outputs": [
    {
     "name": "stdout",
     "output_type": "stream",
     "text": [
      "生还人数\n",
      "        Survived\n",
      "Sex             \n",
      "female       233\n",
      "male         109\n",
      "总人数\n",
      "        Survived\n",
      "Sex             \n",
      "female       314\n",
      "male         577\n",
      "生还率\n",
      "        Survived\n",
      "Sex             \n",
      "female  0.742038\n",
      "male    0.188908\n"
     ]
    },
    {
     "data": {
      "image/png": "[encoded data removed]",
      "text/plain": [
       "<matplotlib.figure.Figure at 0x18aebbfb7f0>"
      ]
     },
     "metadata": {},
     "output_type": "display_data"
    }
   ],
   "source": [
    "influence('Survived', 'Sex')"
   ]
  },
  {
   "cell_type": "markdown",
   "metadata": {},
   "source": [
    "#### 结果显示女性存活率较高"
   ]
  },
  {
   "cell_type": "markdown",
   "metadata": {},
   "source": [
    "## 判断年龄对存活率的影响\n",
    "#### 变量 \"Survived\",\"Age\",区间20，以下第一组数据为生还人数，第二组数据为总人数，第三组数据为生还率"
   ]
  },
  {
   "cell_type": "code",
   "execution_count": 67,
   "metadata": {},
   "outputs": [
    {
     "name": "stdout",
     "output_type": "stream",
     "text": [
      "               Survived\n",
      "element_group          \n",
      "[0, 20)              57\n",
      "[20, 40)            168\n",
      "[40, 60)             47\n",
      "[60, 80)              7\n",
      "[80, 100)             0\n",
      "               Survived\n",
      "element_group          \n",
      "[0, 20)             164\n",
      "[20, 40)            387\n",
      "[40, 60)            137\n",
      "[60, 80)             25\n",
      "[80, 100)             1\n",
      "               Survived\n",
      "element_group          \n",
      "[0, 20)        0.347561\n",
      "[20, 40)       0.434109\n",
      "[40, 60)       0.343066\n",
      "[60, 80)       0.280000\n",
      "[80, 100)      0.000000\n"
     ]
    },
    {
     "data": {
      "image/png": "[encoded data removed]",
      "text/plain": [
       "<matplotlib.figure.Figure at 0x18aebd6d208>"
      ]
     },
     "metadata": {},
     "output_type": "display_data"
    },
    {
     "data": {
      "image/png": "[encoded data removed]",
      "text/plain": [
       "<matplotlib.figure.Figure at 0x18aea9d1128>"
      ]
     },
     "metadata": {},
     "output_type": "display_data"
    }
   ],
   "source": [
    "section_influence('Survived', 'Age', 20)"
   ]
  },
  {
   "cell_type": "markdown",
   "metadata": {},
   "source": [
    "#### 结果显示低龄存活率偏高,差异不是很明显,最高龄存活率为零，是因为样本量太少."
   ]
  },
  {
   "cell_type": "markdown",
   "metadata": {},
   "source": [
    "## 判断亲戚和配偶在船数量对存活率的影响\n",
    "#### 变量 \"Survived\",\"SibSp\""
   ]
  },
  {
   "cell_type": "code",
   "execution_count": 68,
   "metadata": {},
   "outputs": [
    {
     "name": "stdout",
     "output_type": "stream",
     "text": [
      "生还人数\n",
      "       Survived\n",
      "SibSp          \n",
      "0           210\n",
      "1           112\n",
      "2            13\n",
      "3             4\n",
      "4             3\n",
      "5             0\n",
      "8             0\n",
      "总人数\n",
      "       Survived\n",
      "SibSp          \n",
      "0           608\n",
      "1           209\n",
      "2            28\n",
      "3            16\n",
      "4            18\n",
      "5             5\n",
      "8             7\n",
      "生还率\n",
      "       Survived\n",
      "SibSp          \n",
      "0      0.345395\n",
      "1      0.535885\n",
      "2      0.464286\n",
      "3      0.250000\n",
      "4      0.166667\n",
      "5      0.000000\n",
      "8      0.000000\n"
     ]
    },
    {
     "data": {
      "image/png": "[encoded data removed]",
      "text/plain": [
       "<matplotlib.figure.Figure at 0x18aea996a58>"
      ]
     },
     "metadata": {},
     "output_type": "display_data"
    }
   ],
   "source": [
    "influence('Survived', 'SibSp')"
   ]
  },
  {
   "cell_type": "markdown",
   "metadata": {},
   "source": [
    "#### 结果显示有1到2个亲戚对存活是有帮助的,1个最好,人数再多的话,可能因为需要照顾到每个人,反而不如独自一人存活率高"
   ]
  },
  {
   "cell_type": "markdown",
   "metadata": {},
   "source": [
    "## 判断父母孩子的在船数量对存活率的影响\n",
    "#### 变量 \"Survived\",\"Parch\""
   ]
  },
  {
   "cell_type": "code",
   "execution_count": 69,
   "metadata": {},
   "outputs": [
    {
     "name": "stdout",
     "output_type": "stream",
     "text": [
      "生还人数\n",
      "       Survived\n",
      "Parch          \n",
      "0           233\n",
      "1            65\n",
      "2            40\n",
      "3             3\n",
      "4             0\n",
      "5             1\n",
      "6             0\n",
      "总人数\n",
      "       Survived\n",
      "Parch          \n",
      "0           678\n",
      "1           118\n",
      "2            80\n",
      "3             5\n",
      "4             4\n",
      "5             5\n",
      "6             1\n",
      "生还率\n",
      "       Survived\n",
      "Parch          \n",
      "0      0.343658\n",
      "1      0.550847\n",
      "2      0.500000\n",
      "3      0.600000\n",
      "4      0.000000\n",
      "5      0.200000\n",
      "6      0.000000\n"
     ]
    },
    {
     "data": {
      "image/png": "[encoded data removed]",
      "text/plain": [
       "<matplotlib.figure.Figure at 0x18aebd73c18>"
      ]
     },
     "metadata": {},
     "output_type": "display_data"
    }
   ],
   "source": [
    "influence('Survived', 'Parch')"
   ]
  },
  {
   "cell_type": "markdown",
   "metadata": {},
   "source": [
    "#### 结果显示有父母孩子在船时比没有父母孩子在船时的存活率要高，但是太多的话会影响逃生，不如独自一人和亲戚配偶在船时的存活率高。"
   ]
  },
  {
   "cell_type": "markdown",
   "metadata": {},
   "source": [
    "## 判断舱位和性别对存活率的综合影响\n",
    "#### 变量 \"Pclass\",\"Sex\",\"Survived\""
   ]
  },
  {
   "cell_type": "code",
   "execution_count": 72,
   "metadata": {},
   "outputs": [
    {
     "name": "stdout",
     "output_type": "stream",
     "text": [
      "生还人数\n",
      "Pclass  Sex   \n",
      "1       female    91\n",
      "        male      45\n",
      "2       female    70\n",
      "        male      17\n",
      "3       female    72\n",
      "        male      47\n",
      "Name: Survived, dtype: int64\n",
      "总人数\n",
      "Pclass  Sex   \n",
      "1       female     94\n",
      "        male      122\n",
      "2       female     76\n",
      "        male      108\n",
      "3       female    144\n",
      "        male      347\n",
      "Name: Survived, dtype: int64\n",
      "生还率\n",
      "Pclass  Sex   \n",
      "1       female    0.968085\n",
      "        male      0.368852\n",
      "2       female    0.921053\n",
      "        male      0.157407\n",
      "3       female    0.500000\n",
      "        male      0.135447\n",
      "Name: Survived, dtype: float64\n"
     ]
    },
    {
     "data": {
      "image/png": "[encoded data removed]",
      "text/plain": [
       "<matplotlib.figure.Figure at 0x18aebd10208>"
      ]
     },
     "metadata": {},
     "output_type": "display_data"
    }
   ],
   "source": [
    "double_influence('Pclass', 'Sex', 'Survived')"
   ]
  },
  {
   "cell_type": "markdown",
   "metadata": {},
   "source": [
    "#### 结果显示有父母孩子在船时比没有父母孩子在船时的存活率要高，但是太多的话会影响逃生，不如独自一人和亲戚配偶在船时的存活率高。"
   ]
  },
  {
   "cell_type": "markdown",
   "metadata": {},
   "source": [
    "# 结论:\n",
    "泰坦尼克号的总人数有2224名,乘客1300多，船员接近900名，在样本中的900左右数据量虽然不是全部人员的数据,但是对乘客来说样本数量所占比例已然接近70%,根据我们分析的结果显示舱位等级和性别以及年龄对存活率都会有较大的影响,由于数据存在缺失情况,所以分析得出的结论并不一定正确,这种结论只是代表一个较大概率的可能性.除了我们分析的因素之外,其他已知或者未知的因素对于存活率的影响也是不容忽视的,其中我认为泰坦尼克号上的船长、驾驶人员及时发现危险并做出相应的调度策略是非常重要的。同时800多工作人员对存活率的影响也是非常大的,工作人员可以凭借其丰富的经验引导乘客,但是没有这方面的相关数据,所以我们的结果可能不是完全正确的。\n",
    "    "
   ]
  },
  {
   "cell_type": "markdown",
   "metadata": {},
   "source": [
    "参考   https://github.com/Patrick-kk/udacity/tree/master/DAND/Project_2"
   ]
  }
 ],
 "metadata": {
  "kernelspec": {
   "display_name": "Python 2",
   "language": "python",
   "name": "python2"
  },
  "language_info": {
   "codemirror_mode": {
    "name": "ipython",
    "version": 2
   },
   "file_extension": ".py",
   "mimetype": "text/x-python",
   "name": "python",
   "nbconvert_exporter": "python",
   "pygments_lexer": "ipython2",
   "version": "2.7.14"
  }
 },
 "nbformat": 4,
 "nbformat_minor": 1
}
